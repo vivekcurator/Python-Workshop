{
 "cells": [
  {
   "cell_type": "markdown",
   "metadata": {},
   "source": [
    "### PT3 -  Name : Vivek Saini,  Roll No: 2K18CSUN01047,  SET A"
   ]
  },
  {
   "cell_type": "markdown",
   "metadata": {},
   "source": [
    "## Theoritical Questions"
   ]
  },
  {
   "cell_type": "markdown",
   "metadata": {},
   "source": [
    "### 1. What is the syntax to call a constructor of a base class from child class\n",
    "### Answer: Super() is used call a constructor of a base class from child class\n",
    "### super().__init__()"
   ]
  },
  {
   "cell_type": "markdown",
   "metadata": {},
   "source": [
    "### 2. How is a class made as inherited class (syntax of child class)\n",
    "#### Answer: \n",
    "### class Parent:\n",
    "### pass\n",
    "### class Child(Parent):\n",
    "###      pass"
   ]
  },
  {
   "cell_type": "markdown",
   "metadata": {},
   "source": [
    "### 3. Print an element of a nested dictionary\n",
    "#### Answer: \n",
    "#### Dict = { 'Dict1': {'name': 'vivek', 'age': '20'}, \n",
    "\n",
    "####              'Dict2': {'name': 'Rahul', 'age': '21'}} \n",
    "\n",
    "#### print(\"\\nNested dictionary 2-\") \n",
    "\n",
    "#### print(Dict)"
   ]
  },
  {
   "cell_type": "markdown",
   "metadata": {},
   "source": [
    "## Programming Questions"
   ]
  },
  {
   "cell_type": "markdown",
   "metadata": {},
   "source": [
    "### Write a program, which will find all such numbers between 1000 and 3000 (both included) such that each digit of the number is an even number."
   ]
  },
  {
   "cell_type": "code",
   "execution_count": 20,
   "metadata": {},
   "outputs": [
    {
     "name": "stdout",
     "output_type": "stream",
     "text": [
      "2000,2002,2004,2006,2008,2020,2022,2024,2026,2028,2040,2042,2044,2046,2048,2060,2062,2064,2066,2068,2080,2082,2084,2086,2088,2200,2202,2204,2206,2208,2220,2222,2224,2226,2228,2240,2242,2244,2246,2248,2260,2262,2264,2266,2268,2280,2282,2284,2286,2288,2400,2402,2404,2406,2408,2420,2422,2424,2426,2428,2440,2442,2444,2446,2448,2460,2462,2464,2466,2468,2480,2482,2484,2486,2488,2600,2602,2604,2606,2608,2620,2622,2624,2626,2628,2640,2642,2644,2646,2648,2660,2662,2664,2666,2668,2680,2682,2684,2686,2688,2800,2802,2804,2806,2808,2820,2822,2824,2826,2828,2840,2842,2844,2846,2848,2860,2862,2864,2866,2868,2880,2882,2884,2886,2888\n"
     ]
    }
   ],
   "source": [
    "items = []\n",
    "for i in range(1000, 3000):\n",
    "    s = str(i)\n",
    "    if (int(s[0])%2==0) and (int(s[1])%2==0) and (int(s[2])%2==0) and (int(s[3])%2==0):\n",
    "        items.append(s)\n",
    "print( \",\".join(items))\n"
   ]
  },
  {
   "cell_type": "markdown",
   "metadata": {},
   "source": [
    "### Define a function that can receive two integral numbers in string form and compute their sum and then print it in console."
   ]
  },
  {
   "cell_type": "code",
   "execution_count": 24,
   "metadata": {},
   "outputs": [
    {
     "name": "stdout",
     "output_type": "stream",
     "text": [
      "Sum =  100\n"
     ]
    }
   ],
   "source": [
    "def calculateSum (a,b):\n",
    "    s = int(a) + int(b)\n",
    "    return s \n",
    "\n",
    "# Main code \n",
    "# take two integral numbers as strings\n",
    "num1 = \"65\"\n",
    "num2 = \"35\"\n",
    "\n",
    "# calculate sum\n",
    "sum = calculateSum (num1, num2)\n",
    "\n",
    "# print sum\n",
    "print (\"Sum = \", sum)"
   ]
  },
  {
   "cell_type": "code",
   "execution_count": null,
   "metadata": {},
   "outputs": [],
   "source": []
  }
 ],
 "metadata": {
  "kernelspec": {
   "display_name": "Python 3",
   "language": "python",
   "name": "python3"
  },
  "language_info": {
   "codemirror_mode": {
    "name": "ipython",
    "version": 3
   },
   "file_extension": ".py",
   "mimetype": "text/x-python",
   "name": "python",
   "nbconvert_exporter": "python",
   "pygments_lexer": "ipython3",
   "version": "3.7.3"
  }
 },
 "nbformat": 4,
 "nbformat_minor": 2
}
