{
 "cells": [
  {
   "cell_type": "markdown",
   "metadata": {},
   "source": [
    "### Q1 Write a program to take input of a number and display the product of the digits of the number"
   ]
  },
  {
   "cell_type": "code",
   "execution_count": 16,
   "metadata": {},
   "outputs": [
    {
     "name": "stdout",
     "output_type": "stream",
     "text": [
      "Enter the number: 56\n",
      "product of all digits is 56 : 30\n"
     ]
    }
   ],
   "source": [
    "num= int(input(\"Enter the number: \"))\n",
    "temp= num\n",
    "product=1;\n",
    "while(temp !=0):\n",
    "    product= product *(temp % 10);\n",
    "    temp = int(temp/10)\n",
    "print(\"product of all digits is\",num, \":\", product)"
   ]
  },
  {
   "cell_type": "markdown",
   "metadata": {},
   "source": [
    "### Q2 Write a program to take input of two numbers and print the number after swapping using single instruction"
   ]
  },
  {
   "cell_type": "code",
   "execution_count": 15,
   "metadata": {},
   "outputs": [
    {
     "name": "stdout",
     "output_type": "stream",
     "text": [
      "Enter First Number: 47\n",
      "Enter Second Number: 56\n",
      "Value of num1 before swapping:  47\n",
      "Value of num2 before swapping:  56\n",
      "Value of num1 after swapping:  56\n",
      "Value of num2 after swapping:  47\n"
     ]
    }
   ],
   "source": [
    "num1 = input('Enter First Number: ')\n",
    "num2 = input('Enter Second Number: ')\n",
    "\n",
    "print(\"Value of num1 before swapping: \", num1)\n",
    "print(\"Value of num2 before swapping: \", num2)\n",
    "\n",
    "temp = num1\n",
    "num1 = num2\n",
    "num2 = temp\n",
    "\n",
    "print(\"Value of num1 after swapping: \", num1)\n",
    "print(\"Value of num2 after swapping: \", num2)"
   ]
  },
  {
   "cell_type": "markdown",
   "metadata": {},
   "source": [
    "### Q3 Write a program to take input of a single digit(0-9) from the user and print its name."
   ]
  },
  {
   "cell_type": "code",
   "execution_count": 13,
   "metadata": {},
   "outputs": [
    {
     "name": "stdout",
     "output_type": "stream",
     "text": [
      "Enter a Single digit number8\n",
      "Eight\n"
     ]
    }
   ],
   "source": [
    "def digit_convert(i):\n",
    "    switcher={\n",
    "        0:'Zero',\n",
    "        1:'One',\n",
    "        2:'Two',\n",
    "        3:'Three',\n",
    "        4:'Four',\n",
    "        5:'Five',\n",
    "        6:'Six',\n",
    "        7:'Seven',\n",
    "        8:'Eight',\n",
    "        9:'Nine',\n",
    "    \n",
    "    }\n",
    "    return switcher.get(n,\"Invalid digit\")\n",
    "n=int(input(\"Enter a Single digit number\"));\n",
    "print(digit_convert(n));"
   ]
  },
  {
   "cell_type": "markdown",
   "metadata": {},
   "source": [
    "### Q4 From the two tuple ( 1,2,3,4,5,6,7,8,9,10) and (11,12,13,14,15,16,17,18,19,20) make new tuple that containg number which are divided by 4 and 8."
   ]
  },
  {
   "cell_type": "code",
   "execution_count": 12,
   "metadata": {},
   "outputs": [
    {
     "name": "stdout",
     "output_type": "stream",
     "text": [
      "(8, 16)\n"
     ]
    }
   ],
   "source": [
    "a = (1,2,3,4,5,6,7,8,9,10)\n",
    "b = (11,12,13,14,15,16,17,18,19,20)\n",
    "c = []\n",
    "for i in range(10):\n",
    "    if(a[i] % 4 ==0):\n",
    "        if(a[i] % 8 ==0):\n",
    "            c.append(a[i])\n",
    "            \n",
    "for i in range(10):\n",
    "    if(b[i] % 4 ==0):\n",
    "        if(b[i] % 8 ==0):\n",
    "            c.append(b[i])\n",
    "        \n",
    "d=tuple(c)\n",
    "print(d)\n",
    "    "
   ]
  },
  {
   "cell_type": "code",
   "execution_count": null,
   "metadata": {},
   "outputs": [],
   "source": []
  }
 ],
 "metadata": {
  "kernelspec": {
   "display_name": "Python 3",
   "language": "python",
   "name": "python3"
  },
  "language_info": {
   "codemirror_mode": {
    "name": "ipython",
    "version": 3
   },
   "file_extension": ".py",
   "mimetype": "text/x-python",
   "name": "python",
   "nbconvert_exporter": "python",
   "pygments_lexer": "ipython3",
   "version": "3.7.3"
  }
 },
 "nbformat": 4,
 "nbformat_minor": 2
}
