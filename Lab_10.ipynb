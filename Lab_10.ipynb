{
 "cells": [
  {
   "cell_type": "markdown",
   "metadata": {},
   "source": [
    "### 1. Write a Python program that has a class Animal with a method legs(). Create two subclasses Tiger and Dog, access the method leg explicitly with class Dog and implicitly with the class Tiger."
   ]
  },
  {
   "cell_type": "code",
   "execution_count": 39,
   "metadata": {},
   "outputs": [
    {
     "name": "stdout",
     "output_type": "stream",
     "text": [
      "Inherit\n",
      "In Tiger\n",
      "In Dog\n",
      "Inherit\n"
     ]
    }
   ],
   "source": [
    "class Animal: \n",
    "    def legs(self): \n",
    "        print(\"In Animal\")  \n",
    "        \n",
    "class Tiger(Animal): \n",
    "    def legs(self): \n",
    "        print(\"In Tiger\") \n",
    "  \n",
    "class Dog(Animal): \n",
    "    def legs(self): \n",
    "         print(\"In Dog\")   \n",
    "        \n",
    "class Animal(Tiger, Dog): \n",
    "    def legs(self): \n",
    "        print(\"Inherit\") \n",
    "        \n",
    "obj = Animal() \n",
    "obj.legs() \n",
    "  \n",
    "Tiger.legs(obj) \n",
    "Dog.legs(obj) \n",
    "Animal.legs(obj) "
   ]
  },
  {
   "cell_type": "markdown",
   "metadata": {},
   "source": [
    "### 2. Write a Python program to create a class Employee. Define two subclasses:Engineer and Manager. Every class should have method named printDesignation() that prints Engineer for Engineer class and Manager for Manager Class."
   ]
  },
  {
   "cell_type": "code",
   "execution_count": 38,
   "metadata": {},
   "outputs": [
    {
     "ename": "AttributeError",
     "evalue": "'Employee' object has no attribute 'printDesigation'",
     "output_type": "error",
     "traceback": [
      "\u001b[0;31m---------------------------------------------------------------------------\u001b[0m",
      "\u001b[0;31mAttributeError\u001b[0m                            Traceback (most recent call last)",
      "\u001b[0;32m<ipython-input-38-0f4048fe793f>\u001b[0m in \u001b[0;36m<module>\u001b[0;34m\u001b[0m\n\u001b[1;32m     12\u001b[0m \u001b[0;34m\u001b[0m\u001b[0m\n\u001b[1;32m     13\u001b[0m \u001b[0mobj\u001b[0m \u001b[0;34m=\u001b[0m \u001b[0mEmployee\u001b[0m\u001b[0;34m(\u001b[0m\u001b[0;34m)\u001b[0m\u001b[0;34m\u001b[0m\u001b[0;34m\u001b[0m\u001b[0m\n\u001b[0;32m---> 14\u001b[0;31m \u001b[0mobj\u001b[0m\u001b[0;34m.\u001b[0m\u001b[0mprintDesigation\u001b[0m\u001b[0;34m(\u001b[0m\u001b[0;34m)\u001b[0m\u001b[0;34m\u001b[0m\u001b[0;34m\u001b[0m\u001b[0m\n\u001b[0m\u001b[1;32m     15\u001b[0m \u001b[0;34m\u001b[0m\u001b[0m\n\u001b[1;32m     16\u001b[0m \u001b[0mManager\u001b[0m\u001b[0;34m.\u001b[0m\u001b[0mprintDesignation\u001b[0m\u001b[0;34m(\u001b[0m\u001b[0mobj\u001b[0m\u001b[0;34m)\u001b[0m\u001b[0;34m\u001b[0m\u001b[0;34m\u001b[0m\u001b[0m\n",
      "\u001b[0;31mAttributeError\u001b[0m: 'Employee' object has no attribute 'printDesigation'"
     ]
    }
   ],
   "source": [
    "class Employee:\n",
    "    def printDesignation(self):\n",
    "        print(\"EMP\")\n",
    "        \n",
    "class Engineer:\n",
    "    def printDesignation(Employee):\n",
    "        print(\"Engineer\")\n",
    "        \n",
    "class Manager:\n",
    "    def printDesignation(Employee):\n",
    "        print(\"Manager\")\n",
    "\n",
    "obj = Employee()\n",
    "obj.printDesigation()\n",
    "\n",
    "Manager.printDesignation(obj)\n",
    "Engineer.printDesignation(obj)\n",
    "Employee.printDesignation(obj)"
   ]
  },
  {
   "cell_type": "markdown",
   "metadata": {},
   "source": [
    "### 3. Write a Python program to demonstrate classes and their attributes."
   ]
  },
  {
   "cell_type": "code",
   "execution_count": 25,
   "metadata": {},
   "outputs": [
    {
     "name": "stdout",
     "output_type": "stream",
     "text": [
      "23\n",
      "Anne\n"
     ]
    }
   ],
   "source": [
    "class Person:  \n",
    "    name = \"\"  \n",
    "    age = 0  \n",
    "      \n",
    "    def __init__(self, personName, personAge):  \n",
    "        self.name = personName  \n",
    "        self.age = personAge  \n",
    "  \n",
    "    def showName(self):  \n",
    "        print(self.name)  \n",
    "  \n",
    "    def showAge(self):  \n",
    "        print(self.age)  \n",
    "          \n",
    "  \n",
    "person1 = Person(\"John\", 23)  \n",
    "person2 = Person(\"Anne\", 102)  \n",
    "person1.showAge()  \n",
    "person2.showName() \n"
   ]
  },
  {
   "cell_type": "code",
   "execution_count": 7,
   "metadata": {},
   "outputs": [
    {
     "name": "stdout",
     "output_type": "stream",
     "text": [
      "I eat only plants. I am vegetarian.\n",
      "I breathe oxygen.\n"
     ]
    }
   ],
   "source": [
    "class Animal:\n",
    "    multicellular = True\n",
    "    eukaryotic = True\n",
    "\n",
    "    def breathe(self):\n",
    "        print(\"I breathe oxygen.\")\n",
    "    \n",
    "    def feed(self):\n",
    "        print(\"I eat food.\")\n",
    "        \n",
    "class Herbivorous(Animal):\n",
    "    \n",
    "    def feed(self):\n",
    "        print(\"I eat only plants. I am vegetarian.\")\n",
    "\n",
    "herbi = Herbivorous()\n",
    "herbi.feed()\n",
    "herbi.breathe()"
   ]
  },
  {
   "cell_type": "markdown",
   "metadata": {},
   "source": [
    "### 4. Write a Python program to demonstrate Inheritance and method overriding."
   ]
  },
  {
   "cell_type": "code",
   "execution_count": 40,
   "metadata": {},
   "outputs": [],
   "source": [
    "class Polygon:\n",
    "    def __init__(self, no_of_sides):\n",
    "        self.n = no_of_sides\n",
    "        self.sides = [0 for i in range(no_of_sides)]\n",
    "\n",
    "    def inputSides(self):\n",
    "        self.sides = [float(input(\"Enter side \"+str(i+1)+\" : \")) for i in range(self.n)]\n",
    "\n",
    "    def dispSides(self):\n",
    "        for i in range(self.n):\n",
    "            print(\"Side\",i+1,\"is\",self.sides[i])\n",
    "            \n",
    "class Triangle(Polygon):\n",
    "    def __init__(self):\n",
    "        Polygon.__init__(self,3)\n",
    "\n",
    "    def findArea(self):\n",
    "        a, b, c = self.sides\n",
    "        # calculate the semi-perimeter\n",
    "        s = (a + b + c) / 2\n",
    "        area = (s*(s-a)*(s-b)*(s-c)) ** 0.5\n",
    "        print('The area of the triangle is %0.2f' %area)           \n",
    "            "
   ]
  },
  {
   "cell_type": "markdown",
   "metadata": {},
   "source": [
    "### 5. Write a Python program to demonstrate multiple Inheritance."
   ]
  },
  {
   "cell_type": "code",
   "execution_count": 23,
   "metadata": {},
   "outputs": [
    {
     "name": "stdout",
     "output_type": "stream",
     "text": [
      "In Class4\n",
      "In Class2\n",
      "In Class3\n",
      "In Class1\n"
     ]
    }
   ],
   "source": [
    "class Class1: \n",
    "    def m(self): \n",
    "        print(\"In Class1\")  \n",
    "        \n",
    "class Class2(Class1): \n",
    "    def m(self): \n",
    "        print(\"In Class2\") \n",
    "  \n",
    "class Class3(Class1): \n",
    "    def m(self): \n",
    "         print(\"In Class3\")      \n",
    "      \n",
    "class Class4(Class2, Class3): \n",
    "    def m(self): \n",
    "        print(\"In Class4\")    \n",
    "  \n",
    "obj = Class4() \n",
    "obj.m() \n",
    "  \n",
    "Class2.m(obj) \n",
    "Class3.m(obj) \n",
    "Class1.m(obj) "
   ]
  },
  {
   "cell_type": "code",
   "execution_count": null,
   "metadata": {},
   "outputs": [],
   "source": []
  }
 ],
 "metadata": {
  "kernelspec": {
   "display_name": "Python 3",
   "language": "python",
   "name": "python3"
  },
  "language_info": {
   "codemirror_mode": {
    "name": "ipython",
    "version": 3
   },
   "file_extension": ".py",
   "mimetype": "text/x-python",
   "name": "python",
   "nbconvert_exporter": "python",
   "pygments_lexer": "ipython3",
   "version": "3.7.3"
  }
 },
 "nbformat": 4,
 "nbformat_minor": 2
}
