{
 "cells": [
  {
   "cell_type": "markdown",
   "metadata": {},
   "source": [
    "### Python PT2 Vivek Saini 2K18CSUN01047"
   ]
  },
  {
   "cell_type": "markdown",
   "metadata": {},
   "source": [
    "### Viva Questions"
   ]
  },
  {
   "cell_type": "markdown",
   "metadata": {},
   "source": [
    "### Q1 "
   ]
  },
  {
   "cell_type": "code",
   "execution_count": 55,
   "metadata": {},
   "outputs": [
    {
     "name": "stdout",
     "output_type": "stream",
     "text": [
      "0\n",
      "1\n",
      "2\n",
      "3\n",
      "11\n",
      "12\n",
      "13\n",
      "14\n"
     ]
    }
   ],
   "source": [
    "list=[11,12,13,14]\n",
    "\n",
    "# it will print values in range 0 to 3\n",
    "for i in range(0,4):\n",
    "    print(i)\n",
    "# it will print the whole items from the list\n",
    "for i in list:\n",
    "    print(i)"
   ]
  },
  {
   "cell_type": "markdown",
   "metadata": {},
   "source": [
    "### Q2"
   ]
  },
  {
   "cell_type": "code",
   "execution_count": 25,
   "metadata": {},
   "outputs": [
    {
     "data": {
      "text/plain": [
       "'abcdefghij'"
      ]
     },
     "execution_count": 25,
     "metadata": {},
     "output_type": "execute_result"
    }
   ],
   "source": [
    "word='abcdefghij'\n",
    "word[:3]+word[3:]"
   ]
  },
  {
   "cell_type": "markdown",
   "metadata": {},
   "source": [
    "### Q3"
   ]
  },
  {
   "cell_type": "code",
   "execution_count": 27,
   "metadata": {},
   "outputs": [
    {
     "name": "stdout",
     "output_type": "stream",
     "text": [
      "Follow Social Distancing\n"
     ]
    }
   ],
   "source": [
    "# List is converted into string using .join() method\n",
    "s = ['Follow', 'Social','Distancing']\n",
    "str = \" \"\n",
    "\n",
    "print(str.join(s))"
   ]
  },
  {
   "cell_type": "markdown",
   "metadata": {},
   "source": [
    "### Programming Question "
   ]
  },
  {
   "cell_type": "markdown",
   "metadata": {},
   "source": [
    "### Q2"
   ]
  },
  {
   "cell_type": "code",
   "execution_count": 60,
   "metadata": {},
   "outputs": [],
   "source": [
    "semester4 = {}\n",
    "\n",
    "semester4[\"student_name\"] = [\"abc\",\"xyz\",\"def\"]\n",
    "semester4[\"experiment_items\"]= [\"test_tube\", \"chemical\", \"stirrer\", \"water\"]\n",
    "semester4[\"num_of_items\"]= [10, 10, 5, 50]\n"
   ]
  },
  {
   "cell_type": "code",
   "execution_count": 61,
   "metadata": {},
   "outputs": [
    {
     "name": "stdout",
     "output_type": "stream",
     "text": [
      "['abc', 'xyz', 'def']\n",
      "['test_tube', 'chemical', 'stirrer', 'water']\n",
      "[10, 10, 5, 50]\n"
     ]
    }
   ],
   "source": [
    "# a\n",
    "for i in semester4.values():\n",
    "    print(i)"
   ]
  },
  {
   "cell_type": "code",
   "execution_count": 62,
   "metadata": {},
   "outputs": [
    {
     "name": "stdout",
     "output_type": "stream",
     "text": [
      "['abc', 'xyz', 'def']\n",
      "['test_tube', 'chemical', 'stirrer', 'water']\n",
      "[10, 10, 5, 50]\n",
      "['f1', 'f2', 'f3', 'f4']\n"
     ]
    }
   ],
   "source": [
    "# b\n",
    "semester4[\"faculty_assigned\"] = [\"f1\",\"f2\",\"f3\",\"f4\"]\n",
    "\n",
    "for i in semester4.values():\n",
    "    print(i)"
   ]
  },
  {
   "cell_type": "code",
   "execution_count": 63,
   "metadata": {},
   "outputs": [
    {
     "name": "stdout",
     "output_type": "stream",
     "text": [
      "chemical\n",
      "stirrer\n",
      "test_tube\n",
      "water\n"
     ]
    }
   ],
   "source": [
    "# c\n",
    "for i in sorted (semester4[\"experiment_items\"]):\n",
    "    print(i)\n"
   ]
  },
  {
   "cell_type": "code",
   "execution_count": 64,
   "metadata": {},
   "outputs": [],
   "source": [
    "# d\n",
    "for i in semester4.items():\n",
    "    semester4[\"num_of_items\"] = [4, 4, 4, 4]"
   ]
  },
  {
   "cell_type": "code",
   "execution_count": 65,
   "metadata": {},
   "outputs": [
    {
     "name": "stdout",
     "output_type": "stream",
     "text": [
      "(['abc', 'xyz', 'def'],)\n",
      "(['test_tube', 'chemical', 'stirrer', 'water'],)\n",
      "([4, 4, 4, 4],)\n",
      "(['f1', 'f2', 'f3', 'f4'],)\n"
     ]
    }
   ],
   "source": [
    "# e\n",
    "for i in semester4.items():\n",
    "    slic = slice(1, 2)\n",
    "    print(i[slic])"
   ]
  },
  {
   "cell_type": "code",
   "execution_count": null,
   "metadata": {},
   "outputs": [],
   "source": []
  }
 ],
 "metadata": {
  "kernelspec": {
   "display_name": "Python 3",
   "language": "python",
   "name": "python3"
  },
  "language_info": {
   "codemirror_mode": {
    "name": "ipython",
    "version": 3
   },
   "file_extension": ".py",
   "mimetype": "text/x-python",
   "name": "python",
   "nbconvert_exporter": "python",
   "pygments_lexer": "ipython3",
   "version": "3.7.3"
  }
 },
 "nbformat": 4,
 "nbformat_minor": 2
}
