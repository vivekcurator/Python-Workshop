{
 "cells": [
  {
   "cell_type": "code",
   "execution_count": 5,
   "metadata": {},
   "outputs": [
    {
     "name": "stdout",
     "output_type": "stream",
     "text": [
      "input the number one: 7\n",
      "input the number one: 9\n",
      "The product is 63\n"
     ]
    }
   ],
   "source": [
    "def add_num(a,b):\n",
    "    multiply=a*b;\n",
    "    return multiply; \n",
    "num1=int(input(\"input the number one: \"))\n",
    "num2=int(input(\"input the number one: \"))\n",
    "print(\"The product is\",add_num(num1,num2))"
   ]
  },
  {
   "cell_type": "code",
   "execution_count": 5,
   "metadata": {},
   "outputs": [
    {
     "name": "stdout",
     "output_type": "stream",
     "text": [
      "input the number one: 7\n",
      "input the number one: 9\n",
      "The product is 63\n"
     ]
    }
   ],
   "source": [
    "def add_num(a,b):\n",
    "    multiply=a*b;\n",
    "    return multiply; \n",
    "num1=int(input(\"input the number one: \"))\n",
    "num2=int(input(\"input the number one: \"))\n",
    "print(\"The product is\",add_num(num1,num2))"
   ]
  },
  {
   "cell_type": "code",
   "execution_count": 6,
   "metadata": {},
   "outputs": [
    {
     "name": "stdout",
     "output_type": "stream",
     "text": [
      "input the number one: 8\n",
      "input the number one :8\n",
      "The sum is 16\n"
     ]
    }
   ],
   "source": [
    "def add_num(a,b):\n",
    "    sum=a+b;\n",
    "    return sum; \n",
    "num1=int(input(\"input the number one: \"))\n",
    "num2=int(input(\"input the number one :\"))\n",
    "print(\"The sum is\",add_num(num1,num2))"
   ]
  },
  {
   "cell_type": "code",
   "execution_count": 9,
   "metadata": {},
   "outputs": [
    {
     "name": "stdout",
     "output_type": "stream",
     "text": [
      "Input a number to compute the factiorial : 3\n",
      "6\n"
     ]
    }
   ],
   "source": [
    "def factorial(n):\n",
    "    if n == 0:\n",
    "        return 1\n",
    "    else:\n",
    "        return n * factorial(n-1)\n",
    "n=int(input(\"Input a number to compute the factiorial : \"))\n",
    "print(factorial(n))"
   ]
  },
  {
   "cell_type": "code",
   "execution_count": 14,
   "metadata": {},
   "outputs": [
    {
     "name": "stdout",
     "output_type": "stream",
     "text": [
      "How many terms? 0\n",
      "Plese enter a positive integer\n"
     ]
    }
   ],
   "source": [
    "def recur_fibo(n):  \n",
    "   if n <= 1:  \n",
    "       return n  \n",
    "   else:  \n",
    "       return(recur_fibo(n-1) + recur_fibo(n-2))  \n",
    "# take input from the user  \n",
    "nterms = int(input(\"How many terms? \"))  \n",
    "# check if the number of terms is valid  \n",
    "if nterms <= 0:  \n",
    "   print(\"Plese enter a positive integer\")  \n",
    "else:  \n",
    "   print(\"Fibonacci sequence:\")  \n",
    "   for i in range(nterms):  \n",
    "       print(recur_fibo(i))  "
   ]
  },
  {
   "cell_type": "code",
   "execution_count": 11,
   "metadata": {},
   "outputs": [
    {
     "name": "stdout",
     "output_type": "stream",
     "text": [
      "Enter number1: 6\n",
      "Enter number2: 8\n",
      "Before swapping, number1 is 6 and number2 is 8\n",
      "After swapping, number1 is 8 and number2 is 6\n"
     ]
    }
   ],
   "source": [
    "def swap_numbers(num1, num2):\n",
    "    temp = num1;\n",
    "    num1 = num2;\n",
    "    num2 = temp;\n",
    "    print(\"After swapping, number1 is %d and number2 is %d\" % (num1, num2));\n",
    "\n",
    "if __name__ == '__main__':\n",
    "    num1 = int(input(\"Enter number1: \"));\n",
    "    num2 = int(input(\"Enter number2: \"));\n",
    "    print(\"Before swapping, number1 is %d and number2 is %d\" % (num1, num2));\n",
    "    swap_numbers(num1, num2);"
   ]
  },
  {
   "cell_type": "code",
   "execution_count": 15,
   "metadata": {},
   "outputs": [
    {
     "name": "stdout",
     "output_type": "stream",
     "text": [
      "Enter first number: 4\n",
      "Enter second number: 5\n",
      "The H.C.F. of 4 and 5 is 1\n"
     ]
    }
   ],
   "source": [
    "def calculate_hcf(x, y):\n",
    "    # choose the smaller number\n",
    "    if x > y:\n",
    "        smaller = y\n",
    "    else:\n",
    "        smaller = x\n",
    "    for i in range(1, smaller + 1):\n",
    "        if (x % i == 0) and (y % i == 0):\n",
    "            hcf = i\n",
    " \n",
    "    return hcf\n",
    " \n",
    " \n",
    "num1 = int(input(\"Enter first number: \"))\n",
    "num2 = int(input(\"Enter second number: \"))\n",
    " \n",
    "print(\"The H.C.F. of\", num1, \"and\", num2, \"is\", calculate_hcf(num1, num2))"
   ]
  },
  {
   "cell_type": "code",
   "execution_count": null,
   "metadata": {},
   "outputs": [],
   "source": []
  },
  {
   "cell_type": "code",
   "execution_count": null,
   "metadata": {},
   "outputs": [],
   "source": []
  }
 ],
 "metadata": {
  "kernelspec": {
   "display_name": "Python 3",
   "language": "python",
   "name": "python3"
  },
  "language_info": {
   "codemirror_mode": {
    "name": "ipython",
    "version": 3
   },
   "file_extension": ".py",
   "mimetype": "text/x-python",
   "name": "python",
   "nbconvert_exporter": "python",
   "pygments_lexer": "ipython3",
   "version": "3.7.3"
  }
 },
 "nbformat": 4,
 "nbformat_minor": 2
}
